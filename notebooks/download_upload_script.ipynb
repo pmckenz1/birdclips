{
 "cells": [
  {
   "cell_type": "code",
   "execution_count": 1,
   "metadata": {},
   "outputs": [],
   "source": [
    "import time\n",
    "import schedule\n",
    "import datetime\n",
    "import subprocess"
   ]
  },
  {
   "cell_type": "code",
   "execution_count": 2,
   "metadata": {},
   "outputs": [
    {
     "data": {
      "text/plain": [
       "'2020-9-4--2-55'"
      ]
     },
     "execution_count": 2,
     "metadata": {},
     "output_type": "execute_result"
    }
   ],
   "source": [
    "currtime = datetime.datetime.now()\n",
    "filename_time = \"--\".join([\"-\".join([str(currtime.year),str(currtime.month),str(currtime.day)]),\"-\".join([str(currtime.hour),str(currtime.minute)])])\n",
    "filename_time"
   ]
  },
  {
   "cell_type": "code",
   "execution_count": 3,
   "metadata": {},
   "outputs": [],
   "source": [
    "def timed_command():\n",
    "    command = \"bash /pinky/patrick/birdclips/scripts/download_upload_clip.sh\"\n",
    "    process = subprocess.Popen(command.split(), stdout=subprocess.PIPE)\n",
    "    output, error = process.communicate()"
   ]
  },
  {
   "cell_type": "code",
   "execution_count": null,
   "metadata": {},
   "outputs": [],
   "source": [
    "schedule.every().day.at(\"03:00\").do(timed_command)\n",
    "schedule.every().day.at(\"03:02\").do(timed_command)\n",
    "schedule.every().day.at(\"03:04\").do(timed_command)\n",
    "schedule.every().day.at(\"03:06\").do(timed_command)\n",
    "#schedule.every().day.at(\"01:00\").do(job)\n",
    "#schedule.every().day.at(\"01:30\").do(job)\n",
    "#schedule.every().day.at(\"02:00\").do(job)\n",
    "#schedule.every().day.at(\"02:30\").do(job)\n",
    "#schedule.every().day.at(\"03:00\").do(job)\n",
    "#schedule.every().day.at(\"03:30\").do(job)\n",
    "#schedule.every().day.at(\"04:00\").do(job)\n",
    "#schedule.every().day.at(\"04:30\").do(job)\n",
    "#schedule.every().day.at(\"05:00\").do(job)\n",
    "#schedule.every().day.at(\"05:30\").do(job)\n",
    "while True:\n",
    "    schedule.run_pending()\n",
    "    time.sleep(1)"
   ]
  },
  {
   "cell_type": "code",
   "execution_count": null,
   "metadata": {},
   "outputs": [],
   "source": []
  }
 ],
 "metadata": {
  "kernelspec": {
   "display_name": "Python 3",
   "language": "python",
   "name": "python3"
  },
  "language_info": {
   "codemirror_mode": {
    "name": "ipython",
    "version": 3
   },
   "file_extension": ".py",
   "mimetype": "text/x-python",
   "name": "python",
   "nbconvert_exporter": "python",
   "pygments_lexer": "ipython3",
   "version": "3.8.5"
  }
 },
 "nbformat": 4,
 "nbformat_minor": 4
}
