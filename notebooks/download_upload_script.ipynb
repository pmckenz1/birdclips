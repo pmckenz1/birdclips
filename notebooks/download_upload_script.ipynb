{
 "cells": [
  {
   "cell_type": "code",
   "execution_count": 1,
   "metadata": {},
   "outputs": [],
   "source": [
    "import time\n",
    "import schedule\n",
    "import datetime\n",
    "import subprocess"
   ]
  },
  {
   "cell_type": "code",
   "execution_count": 2,
   "metadata": {},
   "outputs": [
    {
     "data": {
      "text/plain": [
       "'2020-9-4--2-55'"
      ]
     },
     "execution_count": 2,
     "metadata": {},
     "output_type": "execute_result"
    }
   ],
   "source": [
    "currtime = datetime.datetime.now()\n",
    "filename_time = \"--\".join([\"-\".join([str(currtime.year),str(currtime.month),str(currtime.day)]),\"-\".join([str(currtime.hour),str(currtime.minute)])])\n",
    "filename_time"
   ]
  },
  {
   "cell_type": "code",
   "execution_count": 3,
   "metadata": {},
   "outputs": [],
   "source": [
    "def timed_command():\n",
    "    command = \"bash /pinky/patrick/birdclips/scripts/download_upload_clip.sh\"\n",
    "    process = subprocess.Popen(command.split(), stdout=subprocess.PIPE)\n",
    "    output, error = process.communicate()"
   ]
  },
  {
   "cell_type": "code",
   "execution_count": null,
   "metadata": {},
   "outputs": [],
   "source": [
    "schedule.every().day.at(\"11:30\").do(timed_command)\n",
    "schedule.every().day.at(\"12:00\").do(timed_command)\n",
    "schedule.every().day.at(\"12:30\").do(timed_command)\n",
    "schedule.every().day.at(\"13:00\").do(timed_command)\n",
    "schedule.every().day.at(\"13:30\").do(timed_command)\n",
    "schedule.every().day.at(\"14:00\").do(timed_command)\n",
    "schedule.every().day.at(\"14:30\").do(timed_command)\n",
    "schedule.every().day.at(\"15:00\").do(timed_command)\n",
    "schedule.every().day.at(\"15:30\").do(timed_command)\n",
    "schedule.every().day.at(\"16:00\").do(timed_command)\n",
    "schedule.every().day.at(\"16:30\").do(timed_command)\n",
    "schedule.every().day.at(\"17:00\").do(timed_command)\n",
    "schedule.every().day.at(\"17:30\").do(timed_command)\n",
    "schedule.every().day.at(\"18:00\").do(timed_command)\n",
    "schedule.every().day.at(\"18:30\").do(timed_command)\n",
    "schedule.every().day.at(\"19:00\").do(timed_command)\n",
    "schedule.every().day.at(\"19:30\").do(timed_command)\n",
    "schedule.every().day.at(\"20:00\").do(timed_command)\n",
    "schedule.every().day.at(\"20:30\").do(timed_command)\n",
    "schedule.every().day.at(\"21:00\").do(timed_command)\n",
    "schedule.every().day.at(\"21:30\").do(timed_command)\n",
    "schedule.every().day.at(\"22:00\").do(timed_command)\n",
    "schedule.every().day.at(\"22:30\").do(timed_command)\n",
    "schedule.every().day.at(\"23:00\").do(timed_command)\n",
    "schedule.every().day.at(\"23:30\").do(timed_command)\n",
    "schedule.every().day.at(\"00:00\").do(timed_command)\n",
    "schedule.every().day.at(\"00:30\").do(timed_command)\n",
    "\n",
    "\n",
    "while True:\n",
    "    schedule.run_pending()\n",
    "    time.sleep(1)"
   ]
  },
  {
   "cell_type": "code",
   "execution_count": null,
   "metadata": {},
   "outputs": [],
   "source": []
  }
 ],
 "metadata": {
  "kernelspec": {
   "display_name": "Python 3",
   "language": "python",
   "name": "python3"
  }
 },
 "nbformat": 4,
 "nbformat_minor": 4
}
